{
  "nbformat": 4,
  "nbformat_minor": 0,
  "metadata": {
    "colab": {
      "name": "MSR_final.ipynb",
      "provenance": [],
      "collapsed_sections": []
    },
    "kernelspec": {
      "name": "python3",
      "display_name": "Python 3"
    },
    "language_info": {
      "name": "python"
    }
  },
  "cells": [
    {
      "cell_type": "markdown",
      "source": [
        "\n",
        "\n",
        "\n",
        "# **Installation of the necessary libraries**\n",
        "\n",
        "\n"
      ],
      "metadata": {
        "id": "AVhMH9wpBWGn"
      }
    },
    {
      "cell_type": "code",
      "source": [
        "!pip install pandas\n",
        "!pip install seaborn\n",
        "!pip install matplotlib"
      ],
      "metadata": {
        "colab": {
          "base_uri": "https://localhost:8080/"
        },
        "id": "Gi_TzOkCAt8a",
        "outputId": "c905ac73-87f0-4cb5-d9ed-a0d6d40cf83a"
      },
      "execution_count": 3,
      "outputs": [
        {
          "output_type": "stream",
          "name": "stdout",
          "text": [
            "Looking in indexes: https://pypi.org/simple, https://us-python.pkg.dev/colab-wheels/public/simple/\n",
            "Requirement already satisfied: pandas in /usr/local/lib/python3.7/dist-packages (1.3.5)\n",
            "Requirement already satisfied: numpy>=1.17.3 in /usr/local/lib/python3.7/dist-packages (from pandas) (1.21.6)\n",
            "Requirement already satisfied: pytz>=2017.3 in /usr/local/lib/python3.7/dist-packages (from pandas) (2022.1)\n",
            "Requirement already satisfied: python-dateutil>=2.7.3 in /usr/local/lib/python3.7/dist-packages (from pandas) (2.8.2)\n",
            "Requirement already satisfied: six>=1.5 in /usr/local/lib/python3.7/dist-packages (from python-dateutil>=2.7.3->pandas) (1.15.0)\n",
            "Looking in indexes: https://pypi.org/simple, https://us-python.pkg.dev/colab-wheels/public/simple/\n",
            "Requirement already satisfied: seaborn in /usr/local/lib/python3.7/dist-packages (0.11.2)\n",
            "Requirement already satisfied: numpy>=1.15 in /usr/local/lib/python3.7/dist-packages (from seaborn) (1.21.6)\n",
            "Requirement already satisfied: pandas>=0.23 in /usr/local/lib/python3.7/dist-packages (from seaborn) (1.3.5)\n",
            "Requirement already satisfied: matplotlib>=2.2 in /usr/local/lib/python3.7/dist-packages (from seaborn) (3.2.2)\n",
            "Requirement already satisfied: scipy>=1.0 in /usr/local/lib/python3.7/dist-packages (from seaborn) (1.7.3)\n",
            "Requirement already satisfied: pyparsing!=2.0.4,!=2.1.2,!=2.1.6,>=2.0.1 in /usr/local/lib/python3.7/dist-packages (from matplotlib>=2.2->seaborn) (3.0.9)\n",
            "Requirement already satisfied: python-dateutil>=2.1 in /usr/local/lib/python3.7/dist-packages (from matplotlib>=2.2->seaborn) (2.8.2)\n",
            "Requirement already satisfied: kiwisolver>=1.0.1 in /usr/local/lib/python3.7/dist-packages (from matplotlib>=2.2->seaborn) (1.4.4)\n",
            "Requirement already satisfied: cycler>=0.10 in /usr/local/lib/python3.7/dist-packages (from matplotlib>=2.2->seaborn) (0.11.0)\n",
            "Requirement already satisfied: typing-extensions in /usr/local/lib/python3.7/dist-packages (from kiwisolver>=1.0.1->matplotlib>=2.2->seaborn) (4.1.1)\n",
            "Requirement already satisfied: pytz>=2017.3 in /usr/local/lib/python3.7/dist-packages (from pandas>=0.23->seaborn) (2022.1)\n",
            "Requirement already satisfied: six>=1.5 in /usr/local/lib/python3.7/dist-packages (from python-dateutil>=2.1->matplotlib>=2.2->seaborn) (1.15.0)\n",
            "Looking in indexes: https://pypi.org/simple, https://us-python.pkg.dev/colab-wheels/public/simple/\n",
            "Requirement already satisfied: matplotlib in /usr/local/lib/python3.7/dist-packages (3.2.2)\n",
            "Requirement already satisfied: pyparsing!=2.0.4,!=2.1.2,!=2.1.6,>=2.0.1 in /usr/local/lib/python3.7/dist-packages (from matplotlib) (3.0.9)\n",
            "Requirement already satisfied: python-dateutil>=2.1 in /usr/local/lib/python3.7/dist-packages (from matplotlib) (2.8.2)\n",
            "Requirement already satisfied: numpy>=1.11 in /usr/local/lib/python3.7/dist-packages (from matplotlib) (1.21.6)\n",
            "Requirement already satisfied: cycler>=0.10 in /usr/local/lib/python3.7/dist-packages (from matplotlib) (0.11.0)\n",
            "Requirement already satisfied: kiwisolver>=1.0.1 in /usr/local/lib/python3.7/dist-packages (from matplotlib) (1.4.4)\n",
            "Requirement already satisfied: typing-extensions in /usr/local/lib/python3.7/dist-packages (from kiwisolver>=1.0.1->matplotlib) (4.1.1)\n",
            "Requirement already satisfied: six>=1.5 in /usr/local/lib/python3.7/dist-packages (from python-dateutil>=2.1->matplotlib) (1.15.0)\n"
          ]
        }
      ]
    },
    {
      "cell_type": "markdown",
      "source": [
        "## **After installing we are importing the libraries. We are setting up visualization and output size to our preference.**"
      ],
      "metadata": {
        "id": "Yz5VaJnNB21e"
      }
    },
    {
      "cell_type": "code",
      "source": [
        "import pandas as pd\n",
        "import seaborn as sns\n",
        "\n",
        "import matplotlib.pyplot as plt\n",
        "\n",
        "plt.figure(figsize=(10,8))\n",
        "\n",
        "pd.set_option('display.max_rows', None)\n",
        "pd.set_option('display.max_columns', None)\n",
        "pd.set_option('display.width', None)\n",
        "pd.set_option('display.max_colwidth', None)"
      ],
      "metadata": {
        "id": "s-TXBgcam4nx",
        "colab": {
          "base_uri": "https://localhost:8080/",
          "height": 34
        },
        "outputId": "36de0066-e1ac-466f-b935-b848e43f2163"
      },
      "execution_count": 4,
      "outputs": [
        {
          "output_type": "display_data",
          "data": {
            "text/plain": [
              "<Figure size 720x576 with 0 Axes>"
            ]
          },
          "metadata": {}
        }
      ]
    },
    {
      "cell_type": "markdown",
      "source": [
        "## **We are fetching the first 150 classified data with 'Id', 'CreationDate', 'AcceptedAnswerId', 'Score', 'Body', 'AnswerCount' and 'Status'. We then replace the accepted answers column values with \"EXISTS\" or \"NOT EXISTS\" based on the condition.** "
      ],
      "metadata": {
        "id": "0MbTXSS0CWw4"
      }
    },
    {
      "cell_type": "code",
      "source": [
        "df=pd.read_csv('../Data/final_out.csv')  \n",
        "df_one = df[['Id','CreationDate','AcceptedAnswerId','Score','Body','AnswerCount','Status']]\n",
        "\n",
        "df_two = df_one.head(151)\n",
        "df_two['AcceptedAnswers'] = df_two['AcceptedAnswerId'].apply(lambda x:'NOT EXISTS' if x==\"NaN\" else \"EXISTS\")\n",
        "\n",
        "df_three = df_two.drop('AcceptedAnswerId', axis='columns')\n",
        "status_rows = df_three.Status.count()\n",
        "df_three.head()\n"
      ],
      "metadata": {
        "colab": {
          "base_uri": "https://localhost:8080/",
          "height": 1000
        },
        "id": "h39sjY_AzLiI",
        "outputId": "7f15bae8-6408-4007-d6d3-b05805fc3b87"
      },
      "execution_count": 7,
      "outputs": [
        {
          "output_type": "stream",
          "name": "stderr",
          "text": [
            "/usr/local/lib/python3.7/dist-packages/ipykernel_launcher.py:5: SettingWithCopyWarning: \n",
            "A value is trying to be set on a copy of a slice from a DataFrame.\n",
            "Try using .loc[row_indexer,col_indexer] = value instead\n",
            "\n",
            "See the caveats in the documentation: https://pandas.pydata.org/pandas-docs/stable/user_guide/indexing.html#returning-a-view-versus-a-copy\n",
            "  \"\"\"\n"
          ]
        },
        {
          "output_type": "execute_result",
          "data": {
            "text/plain": [
              "         Id         CreationDate  Score  \\\n",
              "0  65567880  2021-01-04 18:27:10      0   \n",
              "1  66307249  2021-02-21 21:21:30      0   \n",
              "2  65864366  2021-01-23 21:04:04     -1   \n",
              "3  66306826  2021-02-21 20:30:27      0   \n",
              "4  65568018  2021-01-04 18:37:05     -2   \n",
              "\n",
              "                                                                                                                                                                                                                                                                                                                                                                                                                                                                                                                                                                                                                                                                                                                                                                                                                                                                                                                                                                                                                                                                                                                                                                                                                                                                                                                                                                                                                                                                                                                                                                                                                                                                                                                                                                                                                                                                                                                                                                                                                                                                                                                                                                                                                                                                                                                                                                                                                                                                                                                                                                                                                                                                                                                                                                                                                                                                                                                                                                                    Body  \\\n",
              "0                                                                                                                                                                                                                                                                                                                                                                                                                                                                                                                                                                                                                                                                                                                                                                                                                                                                                                                                                                                                                                                                          <p>I want to group by a multiple fields of a collection\\n<a href=\"https://i.stack.imgur.com/m5JfN.png\" rel=\"nofollow noreferrer\"><img src=\"https://i.stack.imgur.com/m5JfN.png\" alt=\"enter image description here\" /></a></p>\\n<p>based on entityname, jurisdiction, source group the values and stored in a list\\nI am expecting out put like\\n[A PACIFIC TRADING POST &amp; LOGO SHOPPE,United States,Hawaii Business Express]=[Alternative_names:A PACIFIC TRADING POST &amp; LOGO SHOPPE (&amp; DESIGN OF OCEAN WITHSUN, SAILBOAT, CLOUDS, 2 ISLANDS, BANNER OVER A CIRCULAR BAND, 2 PALM TREES, 2 FLOWERS AT BASE OF ONE TREE), Identifiers.Other_company_id_number:25510 G5, Identifiers.Name:A PACIFIC TRADING POST &amp; LOGO SHOPPE, status:Inv. Cancelled, Address.Full_address:140 N KALAHEO AVE STE BKAILUA, Hawaii 96734, UNITED STATES, Address.country:United States]</p>\\n<pre><code>Map&lt;List&lt;String&gt;, List&lt;String&gt;&gt; map = Files.lines(Path.of(file)).skip(1).map(s -&gt; s.split(&quot;:&quot;))\\n    .limit(10).collect(Collectors.groupingBy(arr -&gt; Arrays.asList(arr[0], arr[2]),\\n        Collectors.mapping(arr -&gt; arr[1], Collectors.toList())));\\nSystem.out.println(map);\\n</code></pre>\\n<p>and i am getting</p>\\n<pre><code> java.lang.ArrayIndexOutOfBoundsException: Index 2 out of bounds for length 1\\n\\n\\n\\nMap&lt;List&lt;String&gt;, List&lt;String&gt;&gt; map5 = Files.lines(Path.of(file), StandardCharsets.ISO_8859_1)\\n    .skip(1).map(s -&gt; s.split(&quot;,&quot;)).filter(arr -&gt; arr.length &gt; 1).collect(\\n        Collectors.groupingBy(arr -&gt; Arrays.asList(arr[0], arr.length &gt; 2 ? arr[3] : &quot;EMPTY&quot;),\\n            Collectors.mapping(strings -&gt; String.join(&quot;:&quot;, strings),\\n                Collectors.toList())));\\n\\nSystem.out.println(&quot;map values are : &quot; + map5);\\n</code></pre>\\n   \n",
              "1  <p>I am doing a simple project in java swing, just to make time pass.\\nWhen I try to start the application, it gives me this error:</p>\\n<pre><code>   Java HotSpot(TM) 64-Bit Server VM warning: Sharing is only supported for boot loader classes because bootstrap classpath has been appended\\nException in thread &quot;main&quot; java.lang.UnsatisfiedLinkError: D:\\Java\\bin\\awt.dll: Routine di inizializzazione della libreria di collegamento dinamico (DLL) non riuscita\\n    at java.base/jdk.internal.loader.NativeLibraries.load(Native Method)\\n    at java.base/jdk.internal.loader.NativeLibraries$NativeLibraryImpl.open(NativeLibraries.java:383)\\n    at java.base/jdk.internal.loader.NativeLibraries.loadLibrary(NativeLibraries.java:227)\\n    at java.base/jdk.internal.loader.NativeLibraries.loadLibrary(NativeLibraries.java:169)\\n    at java.base/jdk.internal.loader.NativeLibraries.findFromPaths(NativeLibraries.java:310)\\n    at java.base/jdk.internal.loader.NativeLibraries.loadLibrary(NativeLibraries.java:280)\\n    at java.base/java.lang.ClassLoader.loadLibrary(ClassLoader.java:2416)\\n    at java.base/java.lang.Runtime.loadLibrary0(Runtime.java:809)\\n    at java.base/java.lang.System.loadLibrary(System.java:1893)\\n    at java.desktop/java.awt.Toolkit$2.run(Toolkit.java:1380)\\n    at java.desktop/java.awt.Toolkit$2.run(Toolkit.java:1378)\\n    at java.base/java.security.AccessController.doPrivileged(AccessController.java:312)\\n    at java.desktop/java.awt.Toolkit.loadLibraries(Toolkit.java:1377)\\n    at java.desktop/java.awt.Toolkit.&lt;clinit&gt;(Toolkit.java:1410)\\n    at java.desktop/java.awt.Component.&lt;clinit&gt;(Component.java:622)\\n    at com.company.Main.main(Main.java:6)\\n\\n</code></pre>\\n<p>Here's the code (I got 3 classes):</p>\\n<p>this is the class page:</p>\\n<pre><code>package com.company;\\n\\nimport javax.swing.*;\\nimport java.awt.*;\\n\\npublic class Page extends JFrame {\\n    Header header = new Header();\\n    public Page(){\\n        super(&quot;FW Ultra&quot;);\\n        this.setSize(1000, 700);\\n        this.setDefaultCloseOperation(JFrame.EXIT_ON_CLOSE);\\n        this.getContentPane().setLayout(new FlowLayout());\\n\\n        this.add(header);\\n\\n        this.setVisible(true);\\n    }\\n}\\n</code></pre>\\n<p>this is the class header:</p>\\n<pre><code>package com.company;\\n\\nimport javax.swing.*;\\nimport java.awt.*;\\n\\npublic class Header extends JPanel {\\n    public Header(){\\n        super();\\n        this.setLayout(new BorderLayout());\\n        add(new JLabel(&quot;FVU | Film Viewer Ultra&quot;),  BorderLayout.WEST);\\n        add(new JLabel(&quot;Version 1.0&quot;),  BorderLayout.EAST);\\n    }\\n}\\n</code></pre>\\n<p>and this is the main</p>\\n<pre><code>package com.company;\\n\\npublic class Main {\\n\\n    public static void main(String[] args) {\\n        Page p = new Page();\\n    }\\n}\\n</code></pre>\\n<p>PLZ help mee</p>\\n   \n",
              "2                                                                                                                                                                                                                                                                                                                                                                                                                                                                                                                                                                                                                                                                                                                                                                                                                                                                                                                                                                                                                                                                                                                                                                                                                                                                                                                                                                                                                                                                                                                                                                                                                                                                                                                                                                                                                                                                                                                                                                                                                               <p>I want to print a quiz to my GUI using my draw method which changes depending on how many times it is looped through, but the way I'm doing it does not print the String[] fruit to the screen. I assume because its not registering the loop I'm trying to make with the time value(?) but I can't figure out why.</p>\\n<pre><code>public class Fruit {\\n\\n    private String[] fruit = {};\\n\\n    public void draw(Graphics2D g) {\\n        int time = 0;\\n\\n        for (int i = 0; i &lt; fruit.length; i++) {\\n            g.drawString(fruit[i], 100, 100);\\n        }\\n\\n        if(time == 0){\\n            String[] fruit = {\\n                &quot;Apples&quot;,\\n                &quot;Pears&quot;\\n            };\\n        }\\n        else if(time == 1){\\n            String[] fruit = {\\n                &quot;Bananas&quot;,\\n                &quot;Kiwi&quot;\\n            };\\n        }\\n        time++;\\n    }\\n}\\n</code></pre>\\n   \n",
              "3                                                                                                                                                                                                                                                                                                                                                                                                                                                                                                                                                                                                                                                                                                                                                                                                                                                                                                                                                                                                                                                                                                                                                                                                                                                                                                                                                                                                                                                                                                                                                                                                                                                                                                                                                                                                                                                                      <p>I have an array of dice that are apart of a larger program. (This section of code is in my main)</p>\\n<pre><code>int[] Dice = new int[] { 0, 0, 0, 0, 0 };\\n      System.out.println(&quot;Die 1: &quot; + Dice[0]);\\n      System.out.println(&quot;Die 2: &quot; + Dice[1]);\\n      System.out.println(&quot;Die 3: &quot; + Dice[2]);\\n      System.out.println(&quot;Die 4: &quot; + Dice[3]);\\n      System.out.println(&quot;Die 5: &quot; + Dice[4]);\\n</code></pre>\\n<p>I am trying to get user input so the user can chose how many dice they would like to roll with.(This section of code is from my configuration class)</p>\\n<pre><code>String file = &quot;yahtzeeConfig.txt&quot;;\\n        Scanner scan = new Scanner(System.in);\\n        //configures number of dice in hand\\n        System.out.println(&quot;Enter the number of dice you would like in your hand (1-5): &quot;);\\n        int hand = scan.nextInt();\\n</code></pre>\\n<p>Super basic and kind of embarrassing to ask, but how would I use the values read from the user to change the amount of dice for each roll??</p>\\n   \n",
              "4                                                                                                                                                                                                                                                                                                                                                                                                                                                                                                                                                                                                                                                                                                                                                                                                                                                                                                                                                                                                                                                                                                                                                                                                                                                                                                                                                                                                                                                                                                                                                                                                                                                                                                                                                                                                                                                                                                                                                                                                                                                                                                                                                                                                                                                                                                                                                                                                                                                                                                                                                                                                                                                 <pre><code>&quot;ab&quot; + 'c' // String + char\\n&quot;ab&quot; + &quot;c&quot; // String + String of single char\\n</code></pre>\\n<p>What is the difference between these expressions?</p>\\n<ul>\\n<li>Is there any impact on the performance?</li>\\n<li>Is there any difference in behavior on different Java versions?</li>\\n</ul>\\n   \n",
              "\n",
              "   AnswerCount Status AcceptedAnswers  \n",
              "0            1    RMM          EXISTS  \n",
              "1            1   IREP          EXISTS  \n",
              "2            1   IDEF          EXISTS  \n",
              "3            1   RMJM          EXISTS  \n",
              "4            1   IDEF          EXISTS  "
            ],
            "text/html": [
              "\n",
              "  <div id=\"df-7b6d9ef8-328d-415d-8a1c-dc0c5d44e850\">\n",
              "    <div class=\"colab-df-container\">\n",
              "      <div>\n",
              "<style scoped>\n",
              "    .dataframe tbody tr th:only-of-type {\n",
              "        vertical-align: middle;\n",
              "    }\n",
              "\n",
              "    .dataframe tbody tr th {\n",
              "        vertical-align: top;\n",
              "    }\n",
              "\n",
              "    .dataframe thead th {\n",
              "        text-align: right;\n",
              "    }\n",
              "</style>\n",
              "<table border=\"1\" class=\"dataframe\">\n",
              "  <thead>\n",
              "    <tr style=\"text-align: right;\">\n",
              "      <th></th>\n",
              "      <th>Id</th>\n",
              "      <th>CreationDate</th>\n",
              "      <th>Score</th>\n",
              "      <th>Body</th>\n",
              "      <th>AnswerCount</th>\n",
              "      <th>Status</th>\n",
              "      <th>AcceptedAnswers</th>\n",
              "    </tr>\n",
              "  </thead>\n",
              "  <tbody>\n",
              "    <tr>\n",
              "      <th>0</th>\n",
              "      <td>65567880</td>\n",
              "      <td>2021-01-04 18:27:10</td>\n",
              "      <td>0</td>\n",
              "      <td>&lt;p&gt;I want to group by a multiple fields of a collection\\n&lt;a href=\"https://i.stack.imgur.com/m5JfN.png\" rel=\"nofollow noreferrer\"&gt;&lt;img src=\"https://i.stack.imgur.com/m5JfN.png\" alt=\"enter image description here\" /&gt;&lt;/a&gt;&lt;/p&gt;\\n&lt;p&gt;based on entityname, jurisdiction, source group the values and stored in a list\\nI am expecting out put like\\n[A PACIFIC TRADING POST &amp;amp; LOGO SHOPPE,United States,Hawaii Business Express]=[Alternative_names:A PACIFIC TRADING POST &amp;amp; LOGO SHOPPE (&amp;amp; DESIGN OF OCEAN WITHSUN, SAILBOAT, CLOUDS, 2 ISLANDS, BANNER OVER A CIRCULAR BAND, 2 PALM TREES, 2 FLOWERS AT BASE OF ONE TREE), Identifiers.Other_company_id_number:25510 G5, Identifiers.Name:A PACIFIC TRADING POST &amp;amp; LOGO SHOPPE, status:Inv. Cancelled, Address.Full_address:140 N KALAHEO AVE STE BKAILUA, Hawaii 96734, UNITED STATES, Address.country:United States]&lt;/p&gt;\\n&lt;pre&gt;&lt;code&gt;Map&amp;lt;List&amp;lt;String&amp;gt;, List&amp;lt;String&amp;gt;&amp;gt; map = Files.lines(Path.of(file)).skip(1).map(s -&amp;gt; s.split(&amp;quot;:&amp;quot;))\\n    .limit(10).collect(Collectors.groupingBy(arr -&amp;gt; Arrays.asList(arr[0], arr[2]),\\n        Collectors.mapping(arr -&amp;gt; arr[1], Collectors.toList())));\\nSystem.out.println(map);\\n&lt;/code&gt;&lt;/pre&gt;\\n&lt;p&gt;and i am getting&lt;/p&gt;\\n&lt;pre&gt;&lt;code&gt; java.lang.ArrayIndexOutOfBoundsException: Index 2 out of bounds for length 1\\n\\n\\n\\nMap&amp;lt;List&amp;lt;String&amp;gt;, List&amp;lt;String&amp;gt;&amp;gt; map5 = Files.lines(Path.of(file), StandardCharsets.ISO_8859_1)\\n    .skip(1).map(s -&amp;gt; s.split(&amp;quot;,&amp;quot;)).filter(arr -&amp;gt; arr.length &amp;gt; 1).collect(\\n        Collectors.groupingBy(arr -&amp;gt; Arrays.asList(arr[0], arr.length &amp;gt; 2 ? arr[3] : &amp;quot;EMPTY&amp;quot;),\\n            Collectors.mapping(strings -&amp;gt; String.join(&amp;quot;:&amp;quot;, strings),\\n                Collectors.toList())));\\n\\nSystem.out.println(&amp;quot;map values are : &amp;quot; + map5);\\n&lt;/code&gt;&lt;/pre&gt;\\n</td>\n",
              "      <td>1</td>\n",
              "      <td>RMM</td>\n",
              "      <td>EXISTS</td>\n",
              "    </tr>\n",
              "    <tr>\n",
              "      <th>1</th>\n",
              "      <td>66307249</td>\n",
              "      <td>2021-02-21 21:21:30</td>\n",
              "      <td>0</td>\n",
              "      <td>&lt;p&gt;I am doing a simple project in java swing, just to make time pass.\\nWhen I try to start the application, it gives me this error:&lt;/p&gt;\\n&lt;pre&gt;&lt;code&gt;   Java HotSpot(TM) 64-Bit Server VM warning: Sharing is only supported for boot loader classes because bootstrap classpath has been appended\\nException in thread &amp;quot;main&amp;quot; java.lang.UnsatisfiedLinkError: D:\\Java\\bin\\awt.dll: Routine di inizializzazione della libreria di collegamento dinamico (DLL) non riuscita\\n    at java.base/jdk.internal.loader.NativeLibraries.load(Native Method)\\n    at java.base/jdk.internal.loader.NativeLibraries$NativeLibraryImpl.open(NativeLibraries.java:383)\\n    at java.base/jdk.internal.loader.NativeLibraries.loadLibrary(NativeLibraries.java:227)\\n    at java.base/jdk.internal.loader.NativeLibraries.loadLibrary(NativeLibraries.java:169)\\n    at java.base/jdk.internal.loader.NativeLibraries.findFromPaths(NativeLibraries.java:310)\\n    at java.base/jdk.internal.loader.NativeLibraries.loadLibrary(NativeLibraries.java:280)\\n    at java.base/java.lang.ClassLoader.loadLibrary(ClassLoader.java:2416)\\n    at java.base/java.lang.Runtime.loadLibrary0(Runtime.java:809)\\n    at java.base/java.lang.System.loadLibrary(System.java:1893)\\n    at java.desktop/java.awt.Toolkit$2.run(Toolkit.java:1380)\\n    at java.desktop/java.awt.Toolkit$2.run(Toolkit.java:1378)\\n    at java.base/java.security.AccessController.doPrivileged(AccessController.java:312)\\n    at java.desktop/java.awt.Toolkit.loadLibraries(Toolkit.java:1377)\\n    at java.desktop/java.awt.Toolkit.&amp;lt;clinit&amp;gt;(Toolkit.java:1410)\\n    at java.desktop/java.awt.Component.&amp;lt;clinit&amp;gt;(Component.java:622)\\n    at com.company.Main.main(Main.java:6)\\n\\n&lt;/code&gt;&lt;/pre&gt;\\n&lt;p&gt;Here's the code (I got 3 classes):&lt;/p&gt;\\n&lt;p&gt;this is the class page:&lt;/p&gt;\\n&lt;pre&gt;&lt;code&gt;package com.company;\\n\\nimport javax.swing.*;\\nimport java.awt.*;\\n\\npublic class Page extends JFrame {\\n    Header header = new Header();\\n    public Page(){\\n        super(&amp;quot;FW Ultra&amp;quot;);\\n        this.setSize(1000, 700);\\n        this.setDefaultCloseOperation(JFrame.EXIT_ON_CLOSE);\\n        this.getContentPane().setLayout(new FlowLayout());\\n\\n        this.add(header);\\n\\n        this.setVisible(true);\\n    }\\n}\\n&lt;/code&gt;&lt;/pre&gt;\\n&lt;p&gt;this is the class header:&lt;/p&gt;\\n&lt;pre&gt;&lt;code&gt;package com.company;\\n\\nimport javax.swing.*;\\nimport java.awt.*;\\n\\npublic class Header extends JPanel {\\n    public Header(){\\n        super();\\n        this.setLayout(new BorderLayout());\\n        add(new JLabel(&amp;quot;FVU | Film Viewer Ultra&amp;quot;),  BorderLayout.WEST);\\n        add(new JLabel(&amp;quot;Version 1.0&amp;quot;),  BorderLayout.EAST);\\n    }\\n}\\n&lt;/code&gt;&lt;/pre&gt;\\n&lt;p&gt;and this is the main&lt;/p&gt;\\n&lt;pre&gt;&lt;code&gt;package com.company;\\n\\npublic class Main {\\n\\n    public static void main(String[] args) {\\n        Page p = new Page();\\n    }\\n}\\n&lt;/code&gt;&lt;/pre&gt;\\n&lt;p&gt;PLZ help mee&lt;/p&gt;\\n</td>\n",
              "      <td>1</td>\n",
              "      <td>IREP</td>\n",
              "      <td>EXISTS</td>\n",
              "    </tr>\n",
              "    <tr>\n",
              "      <th>2</th>\n",
              "      <td>65864366</td>\n",
              "      <td>2021-01-23 21:04:04</td>\n",
              "      <td>-1</td>\n",
              "      <td>&lt;p&gt;I want to print a quiz to my GUI using my draw method which changes depending on how many times it is looped through, but the way I'm doing it does not print the String[] fruit to the screen. I assume because its not registering the loop I'm trying to make with the time value(?) but I can't figure out why.&lt;/p&gt;\\n&lt;pre&gt;&lt;code&gt;public class Fruit {\\n\\n    private String[] fruit = {};\\n\\n    public void draw(Graphics2D g) {\\n        int time = 0;\\n\\n        for (int i = 0; i &amp;lt; fruit.length; i++) {\\n            g.drawString(fruit[i], 100, 100);\\n        }\\n\\n        if(time == 0){\\n            String[] fruit = {\\n                &amp;quot;Apples&amp;quot;,\\n                &amp;quot;Pears&amp;quot;\\n            };\\n        }\\n        else if(time == 1){\\n            String[] fruit = {\\n                &amp;quot;Bananas&amp;quot;,\\n                &amp;quot;Kiwi&amp;quot;\\n            };\\n        }\\n        time++;\\n    }\\n}\\n&lt;/code&gt;&lt;/pre&gt;\\n</td>\n",
              "      <td>1</td>\n",
              "      <td>IDEF</td>\n",
              "      <td>EXISTS</td>\n",
              "    </tr>\n",
              "    <tr>\n",
              "      <th>3</th>\n",
              "      <td>66306826</td>\n",
              "      <td>2021-02-21 20:30:27</td>\n",
              "      <td>0</td>\n",
              "      <td>&lt;p&gt;I have an array of dice that are apart of a larger program. (This section of code is in my main)&lt;/p&gt;\\n&lt;pre&gt;&lt;code&gt;int[] Dice = new int[] { 0, 0, 0, 0, 0 };\\n      System.out.println(&amp;quot;Die 1: &amp;quot; + Dice[0]);\\n      System.out.println(&amp;quot;Die 2: &amp;quot; + Dice[1]);\\n      System.out.println(&amp;quot;Die 3: &amp;quot; + Dice[2]);\\n      System.out.println(&amp;quot;Die 4: &amp;quot; + Dice[3]);\\n      System.out.println(&amp;quot;Die 5: &amp;quot; + Dice[4]);\\n&lt;/code&gt;&lt;/pre&gt;\\n&lt;p&gt;I am trying to get user input so the user can chose how many dice they would like to roll with.(This section of code is from my configuration class)&lt;/p&gt;\\n&lt;pre&gt;&lt;code&gt;String file = &amp;quot;yahtzeeConfig.txt&amp;quot;;\\n        Scanner scan = new Scanner(System.in);\\n        //configures number of dice in hand\\n        System.out.println(&amp;quot;Enter the number of dice you would like in your hand (1-5): &amp;quot;);\\n        int hand = scan.nextInt();\\n&lt;/code&gt;&lt;/pre&gt;\\n&lt;p&gt;Super basic and kind of embarrassing to ask, but how would I use the values read from the user to change the amount of dice for each roll??&lt;/p&gt;\\n</td>\n",
              "      <td>1</td>\n",
              "      <td>RMJM</td>\n",
              "      <td>EXISTS</td>\n",
              "    </tr>\n",
              "    <tr>\n",
              "      <th>4</th>\n",
              "      <td>65568018</td>\n",
              "      <td>2021-01-04 18:37:05</td>\n",
              "      <td>-2</td>\n",
              "      <td>&lt;pre&gt;&lt;code&gt;&amp;quot;ab&amp;quot; + 'c' // String + char\\n&amp;quot;ab&amp;quot; + &amp;quot;c&amp;quot; // String + String of single char\\n&lt;/code&gt;&lt;/pre&gt;\\n&lt;p&gt;What is the difference between these expressions?&lt;/p&gt;\\n&lt;ul&gt;\\n&lt;li&gt;Is there any impact on the performance?&lt;/li&gt;\\n&lt;li&gt;Is there any difference in behavior on different Java versions?&lt;/li&gt;\\n&lt;/ul&gt;\\n</td>\n",
              "      <td>1</td>\n",
              "      <td>IDEF</td>\n",
              "      <td>EXISTS</td>\n",
              "    </tr>\n",
              "  </tbody>\n",
              "</table>\n",
              "</div>\n",
              "      <button class=\"colab-df-convert\" onclick=\"convertToInteractive('df-7b6d9ef8-328d-415d-8a1c-dc0c5d44e850')\"\n",
              "              title=\"Convert this dataframe to an interactive table.\"\n",
              "              style=\"display:none;\">\n",
              "        \n",
              "  <svg xmlns=\"http://www.w3.org/2000/svg\" height=\"24px\"viewBox=\"0 0 24 24\"\n",
              "       width=\"24px\">\n",
              "    <path d=\"M0 0h24v24H0V0z\" fill=\"none\"/>\n",
              "    <path d=\"M18.56 5.44l.94 2.06.94-2.06 2.06-.94-2.06-.94-.94-2.06-.94 2.06-2.06.94zm-11 1L8.5 8.5l.94-2.06 2.06-.94-2.06-.94L8.5 2.5l-.94 2.06-2.06.94zm10 10l.94 2.06.94-2.06 2.06-.94-2.06-.94-.94-2.06-.94 2.06-2.06.94z\"/><path d=\"M17.41 7.96l-1.37-1.37c-.4-.4-.92-.59-1.43-.59-.52 0-1.04.2-1.43.59L10.3 9.45l-7.72 7.72c-.78.78-.78 2.05 0 2.83L4 21.41c.39.39.9.59 1.41.59.51 0 1.02-.2 1.41-.59l7.78-7.78 2.81-2.81c.8-.78.8-2.07 0-2.86zM5.41 20L4 18.59l7.72-7.72 1.47 1.35L5.41 20z\"/>\n",
              "  </svg>\n",
              "      </button>\n",
              "      \n",
              "  <style>\n",
              "    .colab-df-container {\n",
              "      display:flex;\n",
              "      flex-wrap:wrap;\n",
              "      gap: 12px;\n",
              "    }\n",
              "\n",
              "    .colab-df-convert {\n",
              "      background-color: #E8F0FE;\n",
              "      border: none;\n",
              "      border-radius: 50%;\n",
              "      cursor: pointer;\n",
              "      display: none;\n",
              "      fill: #1967D2;\n",
              "      height: 32px;\n",
              "      padding: 0 0 0 0;\n",
              "      width: 32px;\n",
              "    }\n",
              "\n",
              "    .colab-df-convert:hover {\n",
              "      background-color: #E2EBFA;\n",
              "      box-shadow: 0px 1px 2px rgba(60, 64, 67, 0.3), 0px 1px 3px 1px rgba(60, 64, 67, 0.15);\n",
              "      fill: #174EA6;\n",
              "    }\n",
              "\n",
              "    [theme=dark] .colab-df-convert {\n",
              "      background-color: #3B4455;\n",
              "      fill: #D2E3FC;\n",
              "    }\n",
              "\n",
              "    [theme=dark] .colab-df-convert:hover {\n",
              "      background-color: #434B5C;\n",
              "      box-shadow: 0px 1px 3px 1px rgba(0, 0, 0, 0.15);\n",
              "      filter: drop-shadow(0px 1px 2px rgba(0, 0, 0, 0.3));\n",
              "      fill: #FFFFFF;\n",
              "    }\n",
              "  </style>\n",
              "\n",
              "      <script>\n",
              "        const buttonEl =\n",
              "          document.querySelector('#df-7b6d9ef8-328d-415d-8a1c-dc0c5d44e850 button.colab-df-convert');\n",
              "        buttonEl.style.display =\n",
              "          google.colab.kernel.accessAllowed ? 'block' : 'none';\n",
              "\n",
              "        async function convertToInteractive(key) {\n",
              "          const element = document.querySelector('#df-7b6d9ef8-328d-415d-8a1c-dc0c5d44e850');\n",
              "          const dataTable =\n",
              "            await google.colab.kernel.invokeFunction('convertToInteractive',\n",
              "                                                     [key], {});\n",
              "          if (!dataTable) return;\n",
              "\n",
              "          const docLinkHtml = 'Like what you see? Visit the ' +\n",
              "            '<a target=\"_blank\" href=https://colab.research.google.com/notebooks/data_table.ipynb>data table notebook</a>'\n",
              "            + ' to learn more about interactive tables.';\n",
              "          element.innerHTML = '';\n",
              "          dataTable['output_type'] = 'display_data';\n",
              "          await google.colab.output.renderOutput(dataTable, element);\n",
              "          const docLink = document.createElement('div');\n",
              "          docLink.innerHTML = docLinkHtml;\n",
              "          element.appendChild(docLink);\n",
              "        }\n",
              "      </script>\n",
              "    </div>\n",
              "  </div>\n",
              "  "
            ]
          },
          "metadata": {},
          "execution_count": 7
        }
      ]
    },
    {
      "cell_type": "markdown",
      "source": [
        "## **We try to find the total number of values for:**\n",
        "\n",
        "## **RWM: Reproducible Without Modification**\n",
        "\n",
        "## **RMM: Reproducible with Minor Modification** \n",
        "\n",
        "## **RMJM: Reproducible with Major Modification** \n",
        "## **REP: Reproducible**"
      ],
      "metadata": {
        "id": "rKRJ8lgMEBz2"
      }
    },
    {
      "cell_type": "code",
      "source": [
        "RMM_count = df_three.Status.value_counts().RMM\n",
        "RMJM_count = df_three.Status.value_counts().RMJM\n",
        "RWM_count = df_three.Status.value_counts().RWM\n",
        "REP = RMM_count+RMJM_count+RWM_count"
      ],
      "metadata": {
        "id": "5guDHH6egHFI"
      },
      "execution_count": null,
      "outputs": []
    },
    {
      "cell_type": "markdown",
      "source": [
        "## **We try to find the total number of values for:**\n",
        "\n",
        "## **IREP- Irreproducible**\n",
        "## **IAC - Inacurate Claim**\n",
        "## **IDEF - Ill Defined Issue**"
      ],
      "metadata": {
        "id": "zajPxDZ1Gb3V"
      }
    },
    {
      "cell_type": "code",
      "source": [
        "IDEF_count = df_three.Status.value_counts().IDEF\n",
        "IAC_count = df_three.Status.value_counts().IAC\n",
        "IREP_count = df_three.Status.value_counts().IREP"
      ],
      "metadata": {
        "id": "jJFl5AI6n-CS"
      },
      "execution_count": null,
      "outputs": []
    },
    {
      "cell_type": "markdown",
      "source": [
        "## **Percentage calculation for each of the categories mentioned above**"
      ],
      "metadata": {
        "id": "MoWJ08pOGcgF"
      }
    },
    {
      "cell_type": "code",
      "source": [
        "RMM_percentage = (RMM_count * 100)/ REP \n",
        "RMJM_percentage = (RMJM_count * 100)/ REP \n",
        "RWM_percentage = (RWM_count * 100)/ REP \n",
        "REP_percentage = (REP*100)/status_rows\n",
        "IREP_percentage  =  (IREP_count * 100)/ status_rows\n",
        "IAC_percentage  =  (IAC_count * 100)/ status_rows\n",
        "IDEF_percentage  =  (IDEF_count * 100)/ status_rows"
      ],
      "metadata": {
        "id": "ROYF7LogoRwP"
      },
      "execution_count": null,
      "outputs": []
    },
    {
      "cell_type": "code",
      "source": [
        "REP_dict = {'RMM':[RMM_percentage] , 'RMJM': [RMJM_percentage],\n",
        "                   'RWM':[RWM_percentage]}\n",
        "print(REP_dict)"
      ],
      "metadata": {
        "colab": {
          "base_uri": "https://localhost:8080/"
        },
        "id": "e7QAbXjW-HFY",
        "outputId": "1cdb1451-67b6-42e6-aa37-3f2287e811f2"
      },
      "execution_count": null,
      "outputs": [
        {
          "output_type": "stream",
          "name": "stdout",
          "text": [
            "{'RMM': [33.8235294117647], 'RMJM': [36.76470588235294], 'RWM': [29.41176470588235]}\n"
          ]
        }
      ]
    },
    {
      "cell_type": "markdown",
      "source": [
        "## **Plot for comparing percentages between the three categories under \"Reproducibility\" status in the data collected.**"
      ],
      "metadata": {
        "id": "8PGjwbPUH8oL"
      }
    },
    {
      "cell_type": "code",
      "source": [
        "keys = list(REP_dict.keys())\n",
        "# get values in the same order as keys, and parse percentage values\n",
        "vals = [RMM_percentage, RMJM_percentage, RWM_percentage]\n",
        "sns.barplot(x=keys, y=vals, hue=keys, dodge = False)"
      ],
      "metadata": {
        "colab": {
          "base_uri": "https://localhost:8080/",
          "height": 500
        },
        "id": "MP2SdnVZ4mcO",
        "outputId": "b6fbb1d8-bfc7-44dd-8d96-5b3b77d05dd1"
      },
      "execution_count": null,
      "outputs": [
        {
          "output_type": "execute_result",
          "data": {
            "text/plain": [
              "<matplotlib.axes._subplots.AxesSubplot at 0x7fda1e02da10>"
            ]
          },
          "metadata": {},
          "execution_count": 67
        },
        {
          "output_type": "display_data",
          "data": {
            "text/plain": [
              "<Figure size 576x576 with 1 Axes>"
            ],
            "image/png": "[encoded data removed]"
          },
          "metadata": {
            "needs_background": "light"
          }
        }
      ]
    },
    {
      "cell_type": "code",
      "source": [
        "IREP_dict = {'REP':[REP_percentage] , 'IREP': [IREP_percentage],\n",
        "                   'IAC':[IAC_percentage], 'IDEF':[IDEF_percentage]}\n",
        "print(IREP_dict)"
      ],
      "metadata": {
        "colab": {
          "base_uri": "https://localhost:8080/"
        },
        "id": "Zlrws25J-Mex",
        "outputId": "29ecf71e-f5e2-4974-8c77-683dc56b007a"
      },
      "execution_count": null,
      "outputs": [
        {
          "output_type": "stream",
          "name": "stdout",
          "text": [
            "{'REP': [45.333333333333336], 'IREP': [18.666666666666668], 'IAC': [7.333333333333333], 'IDEF': [24.0]}\n"
          ]
        }
      ]
    },
    {
      "cell_type": "markdown",
      "source": [
        "### **Plot for comparing percentages between \"Reproducibility\" status in the data collected and the three categories under \"Irreproducibility\".**"
      ],
      "metadata": {
        "id": "lxUl9xoHI_Aq"
      }
    },
    {
      "cell_type": "code",
      "source": [
        "keys = list(IREP_dict.keys())\n",
        "# get values in the same order as keys, and parse percentage values\n",
        "vals = [REP_percentage, IREP_percentage, IAC_percentage, IDEF_percentage]\n",
        "sns.barplot(x=keys, y=vals, hue=keys, dodge = False)"
      ],
      "metadata": {
        "colab": {
          "base_uri": "https://localhost:8080/",
          "height": 500
        },
        "id": "VYtWoW2M-7dw",
        "outputId": "8cb5efe3-f61a-4a5c-ff1d-ddc3b837e73b"
      },
      "execution_count": null,
      "outputs": [
        {
          "output_type": "execute_result",
          "data": {
            "text/plain": [
              "<matplotlib.axes._subplots.AxesSubplot at 0x7fda1dfb17d0>"
            ]
          },
          "metadata": {},
          "execution_count": 69
        },
        {
          "output_type": "display_data",
          "data": {
            "text/plain": [
              "<Figure size 576x576 with 1 Axes>"
            ],
            "image/png": "[encoded data removed]"
          },
          "metadata": {
            "needs_background": "light"
          }
        }
      ]
    },
    {
      "cell_type": "markdown",
      "source": [
        "## **Fetching data for \"Reproducible\" and \"Irreproducible\" status given Accepted answers exist.**"
      ],
      "metadata": {
        "id": "K7LiWodtJZZC"
      }
    },
    {
      "cell_type": "code",
      "source": [
        "RMM_yes = df_three[(df_three['Status']==\"RMM\") & (df_three['AcceptedAnswers']==\"EXISTS\")].Status.count()\n",
        "RMJM_yes = df_three[(df_three['Status']==\"RMJM\") & (df_three['AcceptedAnswers']==\"EXISTS\")].Status.count()\n",
        "RWM_yes = df_three[(df_three['Status']==\"RWM\") & (df_three['AcceptedAnswers']==\"EXISTS\")].Status.count()\n",
        "\n",
        "IREP_yes = df_three[(df_three['Status']==\"IREP\") & (df_three['AcceptedAnswers']==\"EXISTS\")].Status.count()\n",
        "IAC_yes = df_three[(df_three['Status']==\"IAC\") & (df_three['AcceptedAnswers']==\"EXISTS\")].Status.count()\n",
        "IDEF_yes = df_three[(df_three['Status']==\"IDEF\") & (df_three['AcceptedAnswers']==\"EXISTS\")].Status.count()"
      ],
      "metadata": {
        "id": "-K_PfNkOqqva"
      },
      "execution_count": null,
      "outputs": []
    },
    {
      "cell_type": "markdown",
      "source": [
        "## **Fetching data for \"Reproducible\" and \"Irreproducible\" status given Accepted answers do not exist.**"
      ],
      "metadata": {
        "id": "MAkNEVEYKcai"
      }
    },
    {
      "cell_type": "code",
      "source": [
        "RMM_no = df_three[(df_three['Status']==\"RMM\") & (df_three['AcceptedAnswers']==\"NOT EXISTS\")].Status.count()\n",
        "RMJM_no = df_three[(df_three['Status']==\"RMJM\") & (df_three['AcceptedAnswers']==\"NOT EXISTS\")].Status.count()\n",
        "RWM_no = df_three[(df_three['Status']==\"RWM\") & (df_three['AcceptedAnswers']==\"NOT EXISTS\")].Status.count()\n",
        "\n",
        "IREP_no = df_three[(df_three['Status']==\"IREP\") & (df_three['AcceptedAnswers']==\"NOT EXISTS\")].Status.count()\n",
        "IAC_no = df_three[(df_three['Status']==\"IAC\") & (df_three['AcceptedAnswers']==\"NOT EXISTS\")].Status.count()\n",
        "IDEF_no = df_three[(df_three['Status']==\"IDEF\") & (df_three['AcceptedAnswers']==\"NOT EXISTS\")].Status.count()"
      ],
      "metadata": {
        "id": "i5hWVqXxu6GY"
      },
      "execution_count": null,
      "outputs": []
    },
    {
      "cell_type": "markdown",
      "source": [
        "## **Dataframe for Reproducible and Irreproducible data with accepted answers present and otherwise.**"
      ],
      "metadata": {
        "id": "DCN6IU0UKufz"
      }
    },
    {
      "cell_type": "code",
      "source": [
        "REP_yes = RMM_yes+RMJM_yes+RWM_yes\n",
        "REP_no = RMM_no+RMJM_no+RWM_no\n",
        "\n",
        "dic_val = {'Accepted Answers Present':[REP_yes,IREP_yes], 'Accepted Answers Not present':[REP_no,IREP_no]}\n",
        "\n",
        "table_one = pd.DataFrame(dic_val, index=['Reproducible data','Irreproducible data'])\n",
        "table_one"
      ],
      "metadata": {
        "id": "BM9X3Yfwvqow",
        "colab": {
          "base_uri": "https://localhost:8080/",
          "height": 112
        },
        "outputId": "97cc9f77-db03-428c-8722-96af208869e4"
      },
      "execution_count": null,
      "outputs": [
        {
          "output_type": "execute_result",
          "data": {
            "text/plain": [
              "                     Accepted Answers Present  Accepted Answers Not present\n",
              "Reproducible data                          68                             0\n",
              "Irreproducible data                        28                             0"
            ],
            "text/html": [
              "\n",
              "  <div id=\"df-d37ae96a-27b4-491b-a148-88beaa92dba0\">\n",
              "    <div class=\"colab-df-container\">\n",
              "      <div>\n",
              "<style scoped>\n",
              "    .dataframe tbody tr th:only-of-type {\n",
              "        vertical-align: middle;\n",
              "    }\n",
              "\n",
              "    .dataframe tbody tr th {\n",
              "        vertical-align: top;\n",
              "    }\n",
              "\n",
              "    .dataframe thead th {\n",
              "        text-align: right;\n",
              "    }\n",
              "</style>\n",
              "<table border=\"1\" class=\"dataframe\">\n",
              "  <thead>\n",
              "    <tr style=\"text-align: right;\">\n",
              "      <th></th>\n",
              "      <th>Accepted Answers Present</th>\n",
              "      <th>Accepted Answers Not present</th>\n",
              "    </tr>\n",
              "  </thead>\n",
              "  <tbody>\n",
              "    <tr>\n",
              "      <th>Reproducible data</th>\n",
              "      <td>68</td>\n",
              "      <td>0</td>\n",
              "    </tr>\n",
              "    <tr>\n",
              "      <th>Irreproducible data</th>\n",
              "      <td>28</td>\n",
              "      <td>0</td>\n",
              "    </tr>\n",
              "  </tbody>\n",
              "</table>\n",
              "</div>\n",
              "      <button class=\"colab-df-convert\" onclick=\"convertToInteractive('df-d37ae96a-27b4-491b-a148-88beaa92dba0')\"\n",
              "              title=\"Convert this dataframe to an interactive table.\"\n",
              "              style=\"display:none;\">\n",
              "        \n",
              "  <svg xmlns=\"http://www.w3.org/2000/svg\" height=\"24px\"viewBox=\"0 0 24 24\"\n",
              "       width=\"24px\">\n",
              "    <path d=\"M0 0h24v24H0V0z\" fill=\"none\"/>\n",
              "    <path d=\"M18.56 5.44l.94 2.06.94-2.06 2.06-.94-2.06-.94-.94-2.06-.94 2.06-2.06.94zm-11 1L8.5 8.5l.94-2.06 2.06-.94-2.06-.94L8.5 2.5l-.94 2.06-2.06.94zm10 10l.94 2.06.94-2.06 2.06-.94-2.06-.94-.94-2.06-.94 2.06-2.06.94z\"/><path d=\"M17.41 7.96l-1.37-1.37c-.4-.4-.92-.59-1.43-.59-.52 0-1.04.2-1.43.59L10.3 9.45l-7.72 7.72c-.78.78-.78 2.05 0 2.83L4 21.41c.39.39.9.59 1.41.59.51 0 1.02-.2 1.41-.59l7.78-7.78 2.81-2.81c.8-.78.8-2.07 0-2.86zM5.41 20L4 18.59l7.72-7.72 1.47 1.35L5.41 20z\"/>\n",
              "  </svg>\n",
              "      </button>\n",
              "      \n",
              "  <style>\n",
              "    .colab-df-container {\n",
              "      display:flex;\n",
              "      flex-wrap:wrap;\n",
              "      gap: 12px;\n",
              "    }\n",
              "\n",
              "    .colab-df-convert {\n",
              "      background-color: #E8F0FE;\n",
              "      border: none;\n",
              "      border-radius: 50%;\n",
              "      cursor: pointer;\n",
              "      display: none;\n",
              "      fill: #1967D2;\n",
              "      height: 32px;\n",
              "      padding: 0 0 0 0;\n",
              "      width: 32px;\n",
              "    }\n",
              "\n",
              "    .colab-df-convert:hover {\n",
              "      background-color: #E2EBFA;\n",
              "      box-shadow: 0px 1px 2px rgba(60, 64, 67, 0.3), 0px 1px 3px 1px rgba(60, 64, 67, 0.15);\n",
              "      fill: #174EA6;\n",
              "    }\n",
              "\n",
              "    [theme=dark] .colab-df-convert {\n",
              "      background-color: #3B4455;\n",
              "      fill: #D2E3FC;\n",
              "    }\n",
              "\n",
              "    [theme=dark] .colab-df-convert:hover {\n",
              "      background-color: #434B5C;\n",
              "      box-shadow: 0px 1px 3px 1px rgba(0, 0, 0, 0.15);\n",
              "      filter: drop-shadow(0px 1px 2px rgba(0, 0, 0, 0.3));\n",
              "      fill: #FFFFFF;\n",
              "    }\n",
              "  </style>\n",
              "\n",
              "      <script>\n",
              "        const buttonEl =\n",
              "          document.querySelector('#df-d37ae96a-27b4-491b-a148-88beaa92dba0 button.colab-df-convert');\n",
              "        buttonEl.style.display =\n",
              "          google.colab.kernel.accessAllowed ? 'block' : 'none';\n",
              "\n",
              "        async function convertToInteractive(key) {\n",
              "          const element = document.querySelector('#df-d37ae96a-27b4-491b-a148-88beaa92dba0');\n",
              "          const dataTable =\n",
              "            await google.colab.kernel.invokeFunction('convertToInteractive',\n",
              "                                                     [key], {});\n",
              "          if (!dataTable) return;\n",
              "\n",
              "          const docLinkHtml = 'Like what you see? Visit the ' +\n",
              "            '<a target=\"_blank\" href=https://colab.research.google.com/notebooks/data_table.ipynb>data table notebook</a>'\n",
              "            + ' to learn more about interactive tables.';\n",
              "          element.innerHTML = '';\n",
              "          dataTable['output_type'] = 'display_data';\n",
              "          await google.colab.output.renderOutput(dataTable, element);\n",
              "          const docLink = document.createElement('div');\n",
              "          docLink.innerHTML = docLinkHtml;\n",
              "          element.appendChild(docLink);\n",
              "        }\n",
              "      </script>\n",
              "    </div>\n",
              "  </div>\n",
              "  "
            ]
          },
          "metadata": {},
          "execution_count": 74
        }
      ]
    },
    {
      "cell_type": "markdown",
      "source": [
        "## **Dataframe for Percentage representation of Reproducible and Irreproducible data.**"
      ],
      "metadata": {
        "id": "jRi1frlwLP2Z"
      }
    },
    {
      "cell_type": "code",
      "source": [
        "REP_yes_percentage = (REP_yes * 100)/ status_rows\n",
        "IREP_yes_percentage = (IREP_yes * 100)/status_rows\n",
        "\n",
        "REP_no_percentage = (REP_no * 100)/ status_rows\n",
        "IREP_no_percentage = (IREP_no * 100)/status_rows\n",
        "dict_val = {'REP and IREP Yes':[REP_yes_percentage,IREP_yes_percentage], 'REP and IREP No':[REP_no_percentage,IREP_no_percentage]}\n",
        "\n",
        "rep_percentage_table= pd.DataFrame(dict_val, index=['Reproducible data','Irreproducible data'])\n",
        "rep_percentage_table"
      ],
      "metadata": {
        "id": "la2pzjsh1NVv",
        "colab": {
          "base_uri": "https://localhost:8080/",
          "height": 112
        },
        "outputId": "66a7e5e8-5989-4f4c-e660-2d32b09dbddf"
      },
      "execution_count": null,
      "outputs": [
        {
          "output_type": "execute_result",
          "data": {
            "text/plain": [
              "                     REP and IREP Yes  REP and IREP No\n",
              "Reproducible data           45.333333              0.0\n",
              "Irreproducible data         18.666667              0.0"
            ],
            "text/html": [
              "\n",
              "  <div id=\"df-9d9d2dd7-ac19-4e94-ad64-1b3ab06342ba\">\n",
              "    <div class=\"colab-df-container\">\n",
              "      <div>\n",
              "<style scoped>\n",
              "    .dataframe tbody tr th:only-of-type {\n",
              "        vertical-align: middle;\n",
              "    }\n",
              "\n",
              "    .dataframe tbody tr th {\n",
              "        vertical-align: top;\n",
              "    }\n",
              "\n",
              "    .dataframe thead th {\n",
              "        text-align: right;\n",
              "    }\n",
              "</style>\n",
              "<table border=\"1\" class=\"dataframe\">\n",
              "  <thead>\n",
              "    <tr style=\"text-align: right;\">\n",
              "      <th></th>\n",
              "      <th>REP and IREP Yes</th>\n",
              "      <th>REP and IREP No</th>\n",
              "    </tr>\n",
              "  </thead>\n",
              "  <tbody>\n",
              "    <tr>\n",
              "      <th>Reproducible data</th>\n",
              "      <td>45.333333</td>\n",
              "      <td>0.0</td>\n",
              "    </tr>\n",
              "    <tr>\n",
              "      <th>Irreproducible data</th>\n",
              "      <td>18.666667</td>\n",
              "      <td>0.0</td>\n",
              "    </tr>\n",
              "  </tbody>\n",
              "</table>\n",
              "</div>\n",
              "      <button class=\"colab-df-convert\" onclick=\"convertToInteractive('df-9d9d2dd7-ac19-4e94-ad64-1b3ab06342ba')\"\n",
              "              title=\"Convert this dataframe to an interactive table.\"\n",
              "              style=\"display:none;\">\n",
              "        \n",
              "  <svg xmlns=\"http://www.w3.org/2000/svg\" height=\"24px\"viewBox=\"0 0 24 24\"\n",
              "       width=\"24px\">\n",
              "    <path d=\"M0 0h24v24H0V0z\" fill=\"none\"/>\n",
              "    <path d=\"M18.56 5.44l.94 2.06.94-2.06 2.06-.94-2.06-.94-.94-2.06-.94 2.06-2.06.94zm-11 1L8.5 8.5l.94-2.06 2.06-.94-2.06-.94L8.5 2.5l-.94 2.06-2.06.94zm10 10l.94 2.06.94-2.06 2.06-.94-2.06-.94-.94-2.06-.94 2.06-2.06.94z\"/><path d=\"M17.41 7.96l-1.37-1.37c-.4-.4-.92-.59-1.43-.59-.52 0-1.04.2-1.43.59L10.3 9.45l-7.72 7.72c-.78.78-.78 2.05 0 2.83L4 21.41c.39.39.9.59 1.41.59.51 0 1.02-.2 1.41-.59l7.78-7.78 2.81-2.81c.8-.78.8-2.07 0-2.86zM5.41 20L4 18.59l7.72-7.72 1.47 1.35L5.41 20z\"/>\n",
              "  </svg>\n",
              "      </button>\n",
              "      \n",
              "  <style>\n",
              "    .colab-df-container {\n",
              "      display:flex;\n",
              "      flex-wrap:wrap;\n",
              "      gap: 12px;\n",
              "    }\n",
              "\n",
              "    .colab-df-convert {\n",
              "      background-color: #E8F0FE;\n",
              "      border: none;\n",
              "      border-radius: 50%;\n",
              "      cursor: pointer;\n",
              "      display: none;\n",
              "      fill: #1967D2;\n",
              "      height: 32px;\n",
              "      padding: 0 0 0 0;\n",
              "      width: 32px;\n",
              "    }\n",
              "\n",
              "    .colab-df-convert:hover {\n",
              "      background-color: #E2EBFA;\n",
              "      box-shadow: 0px 1px 2px rgba(60, 64, 67, 0.3), 0px 1px 3px 1px rgba(60, 64, 67, 0.15);\n",
              "      fill: #174EA6;\n",
              "    }\n",
              "\n",
              "    [theme=dark] .colab-df-convert {\n",
              "      background-color: #3B4455;\n",
              "      fill: #D2E3FC;\n",
              "    }\n",
              "\n",
              "    [theme=dark] .colab-df-convert:hover {\n",
              "      background-color: #434B5C;\n",
              "      box-shadow: 0px 1px 3px 1px rgba(0, 0, 0, 0.15);\n",
              "      filter: drop-shadow(0px 1px 2px rgba(0, 0, 0, 0.3));\n",
              "      fill: #FFFFFF;\n",
              "    }\n",
              "  </style>\n",
              "\n",
              "      <script>\n",
              "        const buttonEl =\n",
              "          document.querySelector('#df-9d9d2dd7-ac19-4e94-ad64-1b3ab06342ba button.colab-df-convert');\n",
              "        buttonEl.style.display =\n",
              "          google.colab.kernel.accessAllowed ? 'block' : 'none';\n",
              "\n",
              "        async function convertToInteractive(key) {\n",
              "          const element = document.querySelector('#df-9d9d2dd7-ac19-4e94-ad64-1b3ab06342ba');\n",
              "          const dataTable =\n",
              "            await google.colab.kernel.invokeFunction('convertToInteractive',\n",
              "                                                     [key], {});\n",
              "          if (!dataTable) return;\n",
              "\n",
              "          const docLinkHtml = 'Like what you see? Visit the ' +\n",
              "            '<a target=\"_blank\" href=https://colab.research.google.com/notebooks/data_table.ipynb>data table notebook</a>'\n",
              "            + ' to learn more about interactive tables.';\n",
              "          element.innerHTML = '';\n",
              "          dataTable['output_type'] = 'display_data';\n",
              "          await google.colab.output.renderOutput(dataTable, element);\n",
              "          const docLink = document.createElement('div');\n",
              "          docLink.innerHTML = docLinkHtml;\n",
              "          element.appendChild(docLink);\n",
              "        }\n",
              "      </script>\n",
              "    </div>\n",
              "  </div>\n",
              "  "
            ]
          },
          "metadata": {},
          "execution_count": 81
        }
      ]
    }
  ]
}